{
  "nbformat": 4,
  "nbformat_minor": 0,
  "metadata": {
    "colab": {
      "provenance": [],
      "include_colab_link": true
    },
    "kernelspec": {
      "name": "python3",
      "display_name": "Python 3"
    },
    "language_info": {
      "name": "python"
    }
  },
  "cells": [
    {
      "cell_type": "markdown",
      "metadata": {
        "id": "view-in-github",
        "colab_type": "text"
      },
      "source": [
        "<a href=\"https://colab.research.google.com/github/FranciscoJSSantos/atividade_big_data/blob/main/AtividadeBigData.ipynb\" target=\"_parent\"><img src=\"https://colab.research.google.com/assets/colab-badge.svg\" alt=\"Open In Colab\"/></a>"
      ]
    },
    {
      "cell_type": "markdown",
      "source": [
        "Os dados foram obtidos no site: http://tabnet.datasus.gov.br/cgi/tabcgi.exe?ibge/cnv/aagbr e não foram\n",
        "“tratados”. A imagem abaixo mostra as linhas iniciais da planilha gerada pelo tabnet/datasus:"
      ],
      "metadata": {
        "id": "khsycRTS3-Rf"
      }
    },
    {
      "cell_type": "markdown",
      "source": [
        "#1 QUESTAO"
      ],
      "metadata": {
        "id": "EFOhZrJwqt4-"
      }
    },
    {
      "cell_type": "code",
      "source": [
        "import pandas as pd\n",
        "import numpy as np\n",
        "from numpy.fft import fft, ifft\n",
        "\n",
        "#link para baixar a base que limpamos para uso da atividade\n",
        "# https://drive.google.com/drive/folders/1S1HREylx2M5KlGZxYuQXSp_Dj3S7dZLm?usp=sharing\n",
        "\n",
        "#create and read csv file\n",
        "df1 = pd.read_csv('/content/sus.csv', on_bad_lines='skip', sep=';')\n",
        "df1\n",
        "#create dataFrame\n",
        "sus1 = pd.DataFrame(df1)\n",
        "\n",
        "#Amostra de 1991\n",
        "amostraAleatoria1991 = sus1['1991'].sample(n=70, replace=True);\n",
        "# amostraAleatoria1991\n",
        "\n",
        "#Amostra de 2000\n",
        "amostraAleatoria2000 = sus1['2000'].sample(n=70, replace=True);\n",
        "# amostraAleatoria2000\n",
        "\n",
        "#Amostra de 2010\n",
        "amostraAleatoria2010 = sus1['2010'].sample(n=70, replace=True);\n",
        "# amostraAleatoria2010"
      ],
      "metadata": {
        "id": "V5fHb__ymyKT"
      },
      "execution_count": 86,
      "outputs": []
    },
    {
      "cell_type": "code",
      "source": [
        "amostraAleatoria1991"
      ],
      "metadata": {
        "id": "4Ag7K91mx-Tk",
        "outputId": "703064a8-193a-4c74-dd01-3d1a4e4e2acd",
        "colab": {
          "base_uri": "https://localhost:8080/"
        }
      },
      "execution_count": 87,
      "outputs": [
        {
          "output_type": "execute_result",
          "data": {
            "text/plain": [
              "2319     4794\n",
              "3565     4593\n",
              "4164     8473\n",
              "3996    46352\n",
              "895      8595\n",
              "        ...  \n",
              "2046     8453\n",
              "535     20665\n",
              "1001    12008\n",
              "5186     3350\n",
              "1374     3444\n",
              "Name: 1991, Length: 70, dtype: int64"
            ]
          },
          "metadata": {},
          "execution_count": 87
        }
      ]
    },
    {
      "cell_type": "markdown",
      "source": [
        "#2 QUESTAO"
      ],
      "metadata": {
        "id": "jOurtI2LqwQr"
      }
    },
    {
      "cell_type": "code",
      "source": [
        "def systematic_sampling(df, step):\n",
        "    #variavel que cria um range dinamico de 0 até o tamanho da base com o 'step' que seriam as paradas\n",
        "    indexes = np.arange(0, len(df), step=step)\n",
        "\n",
        "    systematic_sample = df.iloc[indexes]\n",
        "    return systematic_sample\n",
        "\n",
        "systematic_sampling(sus1['2010'], 10)"
      ],
      "metadata": {
        "id": "NniZTpEtqyzm",
        "outputId": "5107ba56-887c-4cb8-9855-273dc58258f5",
        "colab": {
          "base_uri": "https://localhost:8080/"
        }
      },
      "execution_count": 88,
      "outputs": [
        {
          "output_type": "execute_result",
          "data": {
            "text/plain": [
              "0        24054\n",
              "10       19698\n",
              "20       40012\n",
              "30        7483\n",
              "40       50230\n",
              "         ...  \n",
              "5520      4731\n",
              "5530     63041\n",
              "5540     16853\n",
              "5550    103623\n",
              "5560     12476\n",
              "Name: 2010, Length: 557, dtype: int64"
            ]
          },
          "metadata": {},
          "execution_count": 88
        }
      ]
    },
    {
      "cell_type": "markdown",
      "source": [
        "# 3 questao"
      ],
      "metadata": {
        "id": "D0fXlw34sUvh"
      }
    },
    {
      "cell_type": "code",
      "source": [
        "#ANO 1991\n",
        "print('Média do ano de  1991: ' , sus1['1991'].mean())\n",
        "\n",
        "print('Mediana do ano de  1991: ' , sus1['1991'].median())\n",
        "\n",
        "print('Moda do ano de  1991: ', sus1['1991'].mode())\n",
        "\n",
        "print(\"\")\n",
        "print(\"======================================\")\n",
        "print(\"\")\n",
        "\n",
        "#ANO 2000\n",
        "print('Média do ano de  2000: ' , sus1['2000'].mean())\n",
        "\n",
        "print('Mediana do ano de  2000: ' , sus1['2000'].median())\n",
        "\n",
        "print('Moda do ano de  2000: ', sus1['2000'].mode())\n",
        "\n",
        "print(\"\")\n",
        "print(\"======================================\")\n",
        "print(\"\")\n",
        "\n",
        "#ANO 2010\n",
        "print('Média do ano de 2010: ' , sus1['2010'].mean())\n",
        "\n",
        "print('Mediana do ano de  2010: ' , sus1['2010'].median())\n",
        "\n",
        "print('Moda do ano de  2010: ', sus1['2010'].mode())\n"
      ],
      "metadata": {
        "id": "76H1NONGsWXp",
        "outputId": "629ed9fe-15be-427c-a4ee-05d46778c11e",
        "colab": {
          "base_uri": "https://localhost:8080/"
        }
      },
      "execution_count": 83,
      "outputs": [
        {
          "output_type": "stream",
          "name": "stdout",
          "text": [
            "Média do ano de  1991:  52338.41394178943\n",
            "Mediana do ano de  1991:  9410.0\n",
            "Moda do ano de  1991:  0    0\n",
            "dtype: int64\n",
            "\n",
            "======================================\n",
            "\n",
            "Média do ano de  2000:  60499.78189004671\n",
            "Mediana do ano de  2000:  10222.0\n",
            "Moda do ano de  2000:  0    0\n",
            "dtype: int64\n",
            "\n",
            "======================================\n",
            "\n",
            "Média do ano de 2010:  68078.11570247934\n",
            "Mediana do ano de  2010:  10873.0\n",
            "Moda do ano de  2010:  0    3232\n",
            "1    4057\n",
            "dtype: int64\n"
          ]
        }
      ]
    },
    {
      "cell_type": "markdown",
      "source": [
        "# 4 questao"
      ],
      "metadata": {
        "id": "-0qrsZcFtqXM"
      }
    },
    {
      "cell_type": "code",
      "source": [
        "print(\"ANO 1991:\")\n",
        "print(\"\")\n",
        "print('Variancia: ', np.var(sus1['1991']))\n",
        "print('Desvio Padrão: ', np.std(sus1['1991']))\n",
        "print('Amplitude: ', fft(sus1['1991']))\n",
        "\n",
        "print('QUARTIS: ')\n",
        "print('1 quartil: ', np.percentile(sus1['1991'], 25, interpolation = 'midpoint'))\n",
        "print('2 quartil: ', np.percentile(sus1['1991'], 50, interpolation = 'midpoint'))\n",
        "print('3 quartil: ', np.percentile(sus1['1991'], 75, interpolation = 'midpoint'))\n",
        "print('4 quartil: ', np.percentile(sus1['1991'], 100, interpolation = 'midpoint'))\n",
        "\n",
        "print(\"\")\n",
        "print(\"======================================\")\n",
        "print(\"\")\n",
        "\n",
        "print(\"ANO 2000:\")\n",
        "print(\"\")\n",
        "print('Variancia: ', np.var(sus1['2000']))\n",
        "print('Desvio Padrão: ', np.std(sus1['2000']))\n",
        "print('Amplitude: ', fft(sus1['2000']))\n",
        "\n",
        "print('QUARTIS: ')\n",
        "print('1 quartil: ', np.percentile(sus1['2000'], 25, interpolation = 'midpoint'))\n",
        "print('2 quartil: ', np.percentile(sus1['2000'], 50, interpolation = 'midpoint'))\n",
        "print('3 quartil: ', np.percentile(sus1['2000'], 75, interpolation = 'midpoint'))\n",
        "print('4 quartil: ', np.percentile(sus1['2000'], 100, interpolation = 'midpoint'))\n",
        "\n",
        "print(\"\")\n",
        "print(\"======================================\")\n",
        "print(\"\")\n",
        "\n",
        "print(\"ANO 2001:\")\n",
        "print(\"\")\n",
        "print('Variancia: ', np.var(sus1['2010']))\n",
        "print('Desvio Padrão: ', np.std(sus1['2010']))\n",
        "print('Amplitude: ', fft(sus1['2010']))\n",
        "\n",
        "print('QUARTIS: ')\n",
        "print('1 quartil: ', np.percentile(sus1['2010'], 25, interpolation = 'midpoint'))\n",
        "print('2 quartil: ', np.percentile(sus1['2010'], 50, interpolation = 'midpoint'))\n",
        "print('3 quartil: ', np.percentile(sus1['2010'], 75, interpolation = 'midpoint'))\n",
        "print('4 quartil: ', np.percentile(sus1['2010'], 100, interpolation = 'midpoint'))\n",
        "\n",
        "\n",
        "\n"
      ],
      "metadata": {
        "id": "V27MXjLXtruo",
        "outputId": "ac85bbb7-5892-4cc0-d321-f9f7a70f3031",
        "colab": {
          "base_uri": "https://localhost:8080/"
        }
      },
      "execution_count": 84,
      "outputs": [
        {
          "output_type": "stream",
          "name": "stdout",
          "text": [
            "ANO 1991:\n",
            "\n",
            "Variancia:  3837673580080.3623\n",
            "Desvio Padrão:  1958998.1061962163\n",
            "Amplitude:  [2.91315612e+08       +0.j         1.24785476e+08+14389361.9414051j\n",
            " 1.40821293e+08-20748068.67830709j ... 1.70870588e+08 -9117976.50298854j\n",
            " 1.40821293e+08+20748068.67830711j 1.24785476e+08-14389361.94140508j]\n",
            "QUARTIS: \n",
            "1 quartil:  3266.5\n",
            "2 quartil:  9410.0\n",
            "3 quartil:  19887.0\n",
            "4 quartil:  145657806.0\n",
            "\n",
            "======================================\n",
            "\n",
            "ANO 2000:\n",
            "\n",
            "Variancia:  5124396913154.579\n",
            "Desvio Padrão:  2263713.0810141508\n",
            "Amplitude:  [3.36741786e+08       +0.j         1.46339762e+08+17677537.96988904j\n",
            " 1.65465274e+08-25989006.38214544j ... 1.98936441e+08-10908993.43905564j\n",
            " 1.65465274e+08+25989006.38214548j 1.46339762e+08-17677537.96988896j]\n",
            "QUARTIS: \n",
            "1 quartil:  4961.0\n",
            "2 quartil:  10222.0\n",
            "3 quartil:  21022.5\n",
            "4 quartil:  168370893.0\n",
            "\n",
            "======================================\n",
            "\n",
            "ANO 2001:\n",
            "\n",
            "Variancia:  6486236310730.103\n",
            "Desvio Padrão:  2546809.044810801\n",
            "Amplitude:  [3.78922792e+08       +0.j         1.67923604e+08+19417211.54291119j\n",
            " 1.88536283e+08-30756315.33797667j ... 2.25066685e+08-12008833.61817057j\n",
            " 1.88536283e+08+30756315.33797677j 1.67923604e+08-19417211.54291117j]\n",
            "QUARTIS: \n",
            "1 quartil:  5201.5\n",
            "2 quartil:  10873.0\n",
            "3 quartil:  23252.5\n",
            "4 quartil:  189461396.0\n"
          ]
        }
      ]
    }
  ]
}