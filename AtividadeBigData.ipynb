{
  "nbformat": 4,
  "nbformat_minor": 0,
  "metadata": {
    "colab": {
      "provenance": [],
      "authorship_tag": "ABX9TyNL3etKedaSiZ3S5wbxEA7X",
      "include_colab_link": true
    },
    "kernelspec": {
      "name": "python3",
      "display_name": "Python 3"
    },
    "language_info": {
      "name": "python"
    }
  },
  "cells": [
    {
      "cell_type": "markdown",
      "metadata": {
        "id": "view-in-github",
        "colab_type": "text"
      },
      "source": [
        "<a href=\"https://colab.research.google.com/github/FranciscoJSSantos/atividade_big_data/blob/main/AtividadeBigData.ipynb\" target=\"_parent\"><img src=\"https://colab.research.google.com/assets/colab-badge.svg\" alt=\"Open In Colab\"/></a>"
      ]
    },
    {
      "cell_type": "markdown",
      "source": [
        "Os dados foram obtidos no site: http://tabnet.datasus.gov.br/cgi/tabcgi.exe?ibge/cnv/aagbr e não foram\n",
        "“tratados”. A imagem abaixo mostra as linhas iniciais da planilha gerada pelo tabnet/datasus:"
      ],
      "metadata": {
        "id": "khsycRTS3-Rf"
      }
    },
    {
      "cell_type": "code",
      "execution_count": null,
      "metadata": {
        "id": "VaeuN8Yt35Cq"
      },
      "outputs": [],
      "source": []
    }
  ]
}